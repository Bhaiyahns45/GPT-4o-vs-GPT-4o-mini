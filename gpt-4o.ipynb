{
 "cells": [
  {
   "cell_type": "code",
   "execution_count": 1,
   "metadata": {},
   "outputs": [],
   "source": [
    "from langchain_core.prompts import PromptTemplate\n",
    "from langchain_openai import ChatOpenAI\n",
    "\n",
    "import os"
   ]
  },
  {
   "cell_type": "code",
   "execution_count": 2,
   "metadata": {},
   "outputs": [],
   "source": [
    "os.environ[\"OPENAI_API_KEY\"] = \"\"\n",
    "os.environ[\"LANGSMITH_API_KEY\"] = \"\"\n",
    "os.environ[\"LANGCHAIN_TRACING_V2\"] = \"true\"\n",
    "os.environ[\"LANGCHAIN_PROJECT\"] = \"gpt-4o\""
   ]
  },
  {
   "cell_type": "code",
   "execution_count": 3,
   "metadata": {},
   "outputs": [],
   "source": [
    "llm = ChatOpenAI(model=\"gpt-4o\")"
   ]
  },
  {
   "cell_type": "code",
   "execution_count": 4,
   "metadata": {},
   "outputs": [],
   "source": [
    "def invoke_llm(llm, prompt, input_dict):\n",
    "\n",
    "    llm_chain = prompt | llm \n",
    "\n",
    "    result = llm_chain.invoke(input_dict)\n",
    "\n",
    "    return result"
   ]
  },
  {
   "cell_type": "markdown",
   "metadata": {},
   "source": [
    "#### 1. Blog summerization"
   ]
  },
  {
   "cell_type": "code",
   "execution_count": 5,
   "metadata": {},
   "outputs": [],
   "source": [
    "document = \"\"\" Customizing Large Language Models (LLMs) with Your Data: Exploring the Best Methods\n",
    "\n",
    "Customizing Large Language Models (LLMs)\n",
    "Customizing Large Language Models (LLMs)\n",
    "As organizations increasingly look to leverage the power of Large Language Models (LLMs) for their unique needs, the question of how to best customize these models with specific data arises. There are four main architectural patterns to consider: Prompt Engineering, Retrieval Augmented Generation (RAG), Fine-Tuning, and Pretraining. Each method has its own advantages, primary use cases, and considerations, which we will explore in detail to help you determine the best approach for your organization.\n",
    "\n",
    "1. Prompt Engineering\n",
    "\n",
    "Definition: Prompt engineering involves crafting specialized prompts to guide the behavior of an LLM. This technique allows you to instruct the model to generate responses in a particular way without altering the model’s internal parameters.\n",
    "\n",
    "Primary Use Case: This method is best suited for scenarios where quick, on-the-fly guidance is needed. It’s ideal for applications that require immediate results without the need for extensive preparation.\n",
    "\n",
    "Data Requirements: No additional data is required beyond the initial prompts.\n",
    "\n",
    "Advantages:\n",
    "\n",
    "Fast and Cost-Effective: No training is required, making it a swift and economical option.\n",
    "Ease of Implementation: Can be implemented quickly without deep technical expertise.\n",
    "Considerations:\n",
    "\n",
    "Limited Control: Provides less control over the model’s behaviour compared to fine-tuning. The results are dependent on the quality and structure of the prompts.\n",
    "Real-World Example: Improving Customer Support for an E-commerce Company\n",
    "\n",
    "Use Case: An e-commerce company wants to automate part of their customer support process using an AI model like GPT-4. The goal is to handle common customer inquiries efficiently, such as order status, return policies, and product information.\n",
    "\n",
    "Scenario:\n",
    "\n",
    "Identify Common Customer Queries:\n",
    "Order status inquiries\n",
    "Return and refund policies\n",
    "Product information and availability\n",
    "Shipping information\n",
    "Steps for Prompt Engineering:\n",
    "\n",
    "Order Status Inquiry:\n",
    "Prompt: “Can you tell me the status of my order #123456?”\n",
    "Response: The AI model should respond with the order status, including whether it has been shipped, is in transit, or has been delivered, along with the expected delivery date if applicable.\n",
    "Return Policy Inquiry:\n",
    "Prompt: “What is your return policy?”\n",
    "Response: The AI model should provide detailed information about the return policy, including the time frame for returns, any conditions for return, and how the customer can initiate a return process.\n",
    "By crafting specific prompts for these common inquiries, the e-commerce company can quickly implement a customer support solution that provides immediate, accurate responses, improving customer satisfaction and reducing the workload on human support agents.\n",
    "\n",
    "2. Retrieval Augmented Generation (RAG)\n",
    "\n",
    "Definition: RAG combines an LLM with an external knowledge retrieval system. This method allows the model to pull in relevant information from external databases during the generation process.\n",
    "\n",
    "Primary Use Case: Ideal for applications that need to integrate dynamic datasets and external knowledge, such as customer support systems or real-time information retrieval tasks.\n",
    "\n",
    "Data Requirements: Requires an external knowledge base or database, such as a vector database.\n",
    "\n",
    "Advantages:\n",
    "\n",
    "Enhanced Accuracy: Provides dynamically updated context, leading to more accurate and contextually relevant responses.\n",
    "Flexibility: Can adapt to new information quickly without retraining the LLM.\n",
    "Considerations:\n",
    "\n",
    "Increased Computation: Can increase prompt length and inference computation, potentially leading to higher latency and computational costs.\n",
    "Real-World Example: An online retail company employs RAG to enhance their chatbot capabilities. The LLM retrieves real-time inventory information and detailed product descriptions from the company’s database, allowing the chatbot to answer customer queries about product availability and specifications accurately.\n",
    "\n",
    "3. Fine-Tuning\n",
    "\n",
    "Definition: Fine-tuning involves adapting a pretrained LLM to specific datasets or domains by training the model further on a curated dataset.\n",
    "\n",
    "Primary Use Case: Suitable for achieving domain or task specialization, such as legal document analysis or medical text interpretation.\n",
    "\n",
    "Data Requirements: Requires thousands of domain-specific or instruction examples.\n",
    "\n",
    "Advantages:\n",
    "\n",
    "Granular Control: Allows for high specialization and fine-grained control over the model’s behaviour in specific contexts.\n",
    "High Specialization: Tailors the model to perform exceptionally well in a particular domain.\n",
    "Considerations:\n",
    "\n",
    "Resource Intensive: Requires labelled data and computational resources for training.\n",
    "Time-Consuming: The process can be time-consuming, involving significant effort to prepare and train the data.\n",
    "Real-World Example: A legal firm fine-tunes an LLM with thousands of legal documents to create a specialized model capable of understanding and generating legal text. This allows the firm to automate the drafting of contracts and legal briefs, significantly reducing the time lawyers spend on these tasks.\n",
    "\n",
    "4. Pretraining\n",
    "\n",
    "Definition: Pretraining involves training an LLM from scratch using a vast corpus of text data.\n",
    "\n",
    "Primary Use Case: Best for unique tasks or domain-specific corpora where existing pretrained models do not suffice.\n",
    "\n",
    "Data Requirements: Requires large datasets, often billions to trillions of tokens.\n",
    "\n",
    "Advantages:\n",
    "\n",
    "Maximum Control: Provides the highest level of control, tailoring the model specifically to unique needs.\n",
    "Tailored Solutions: Can be designed to meet highly specialized requirements not addressed by existing models.\n",
    "Considerations:\n",
    "\n",
    "Extremely Resource-Intensive: Demands extensive computational resources and time, making it the most expensive option.\n",
    "Complexity: Requires significant expertise in machine learning and access to large-scale data infrastructure.\n",
    "Real-World Example: A scientific research institution pretrains an LLM using a massive dataset of scientific literature and research papers. This custom model is then used to assist researchers in generating hypotheses, analyzing complex datasets, and summarizing new research findings, significantly accelerating the pace of scientific discovery.\n",
    "\n",
    "Conclusion\n",
    "\n",
    "Choosing the right method to customize an LLM with your organization’s data depends on your specific needs, available resources, and desired level of control. Prompt Engineering and RAG offer quick and flexible solutions with minimal setup, while Fine-Tuning and Pretraining provide deeper customization at a higher cost. By understanding the strengths and limitations of each method, you can make an informed decision that best suits your organizational goals.\n",
    "\n",
    "By exploring these techniques, you can harness the full potential of LLMs, ensuring they align closely with your specific use cases and deliver optimal performance for your applications \"\"\""
   ]
  },
  {
   "cell_type": "code",
   "execution_count": 6,
   "metadata": {},
   "outputs": [],
   "source": [
    "prompt_template = \"\"\"Here is a blog document that needs to be summarized into a concise set of bullet \n",
    "points:\n",
    "\n",
    "<document>\n",
    "\n",
    "{document}\n",
    "\n",
    "</document>\n",
    "\n",
    "Please read the document carefully and identify the key points, main ideas, \n",
    "and most essential information. Organize and consolidate this important \n",
    "information into a clear and concise bullet point summary. Your summary \n",
    "should contain no more than 10 bullet points.\n",
    "When creating your bullet point summary, ensure that each bullet point is \n",
    "informative and captures a key aspect of the document. The bullet points \n",
    "should be worded clearly and concisely. Avoid redundancy between bullet \n",
    "points - each one should cover a unique and important piece of information \n",
    "from the document.\n",
    "After you have finished summarizing the document into bullet points, present \n",
    "your final summary inside <summary> tags.\"\"\""
   ]
  },
  {
   "cell_type": "code",
   "execution_count": 7,
   "metadata": {},
   "outputs": [],
   "source": [
    "prompt = PromptTemplate(template=prompt_template, input_variables=[\"document\"])"
   ]
  },
  {
   "cell_type": "code",
   "execution_count": 8,
   "metadata": {},
   "outputs": [],
   "source": [
    "input_dict = {\"document\":document}"
   ]
  },
  {
   "cell_type": "code",
   "execution_count": 9,
   "metadata": {},
   "outputs": [],
   "source": [
    "res = invoke_llm(llm, prompt, input_dict)"
   ]
  },
  {
   "cell_type": "code",
   "execution_count": 10,
   "metadata": {},
   "outputs": [
    {
     "name": "stdout",
     "output_type": "stream",
     "text": [
      "<summary>\n",
      "\n",
      "- **Introduction to Customizing LLMs**: Organizations are exploring methods to tailor LLMs like GPT-4 to their needs, focusing on four main techniques—Prompt Engineering, Retrieval Augmented Generation (RAG), Fine-Tuning, and Pretraining.\n",
      "\n",
      "- **Prompt Engineering**:\n",
      "  - **Definition**: Crafting specialized prompts to guide LLM behavior without changing internal parameters.\n",
      "  - **Use Case**: Quick, on-the-fly guidance for immediate results.\n",
      "  - **Advantages**: Fast, cost-effective, easy implementation.\n",
      "  - **Considerations**: Limited control, dependent on prompt quality.\n",
      "  - **Example**: E-commerce customer support automation.\n",
      "\n",
      "- **Retrieval Augmented Generation (RAG)**:\n",
      "  - **Definition**: Combines LLM with an external knowledge retrieval system.\n",
      "  - **Use Case**: Integrating dynamic datasets and external knowledge, ideal for real-time information retrieval.\n",
      "  - **Advantages**: Enhanced accuracy, flexibility.\n",
      "  - **Considerations**: Increased computational cost and potential latency.\n",
      "  - **Example**: Online retail chatbot with real-time inventory information.\n",
      "\n",
      "- **Fine-Tuning**:\n",
      "  - **Definition**: Adapting a pretrained LLM to specific datasets or domains with further training.\n",
      "  - **Use Case**: Domain or task specialization.\n",
      "  - **Advantages**: Granular control, high specialization.\n",
      "  - **Considerations**: Resource and time-intensive, requires labeled data.\n",
      "  - **Example**: Legal firm automating contract drafting with a fine-tuned LLM.\n",
      "\n",
      "- **Pretraining**:\n",
      "  - **Definition**: Training an LLM from scratch using a vast corpus of text data.\n",
      "  - **Use Case**: Unique tasks or domain-specific needs not met by existing models.\n",
      "  - **Advantages**: Maximum control, highly tailored solutions.\n",
      "  - **Considerations**: Extremely resource-intensive, complex.\n",
      "  - **Example**: Scientific research institution accelerating discovery with a custom pretrained model.\n",
      "\n",
      "- **Conclusion**: The choice of customization method depends on specific needs, resources, and desired control. Understanding each method's strengths and limitations helps in making an informed decision for optimal LLM performance.\n",
      "\n",
      "</summary>\n"
     ]
    }
   ],
   "source": [
    "print(res.content)"
   ]
  },
  {
   "cell_type": "markdown",
   "metadata": {},
   "source": [
    "#### 2. Feedback Request Email"
   ]
  },
  {
   "cell_type": "code",
   "execution_count": 11,
   "metadata": {},
   "outputs": [],
   "source": [
    "prompt_template= \"\"\"Here is a description of the product you will be requesting feedback on:\n",
    "<product_description>\n",
    "{PRODUCT_DESCRIPTION}\n",
    "</product_description>\n",
    "Your task is to write an email to customers or users of this product to request \n",
    "their honest feedback and suggestions for improvement.\n",
    "In your email, make sure to:\n",
    "- Thank the recipient for being a valued customer or user of the product\n",
    "- Provide a brief description of the product and its purpose, using the \n",
    "product_description provided\n",
    "- Explain that you are seeking their honest feedback and suggestions on how to \n",
    "make the product better\n",
    "- Assure the recipient that their feedback will be carefully considered by the \n",
    "product team\n",
    "- Provide clear instructions on how they can submit their feedback, such as by \n",
    "replying directly to the email or filling out a linked survey\n",
    "- Thank the recipient again for taking the time to provide their valuable feedback\n",
    "Remember to use a friendly but professional tone that shows appreciation for the \n",
    "recipient's input and conveys a genuine desire to improve the product based on \n",
    "their suggestions.\n",
    "Please output the entire email inside <email> tags.\"\"\""
   ]
  },
  {
   "cell_type": "code",
   "execution_count": 12,
   "metadata": {},
   "outputs": [],
   "source": [
    "\n",
    "prompt = PromptTemplate(template=prompt_template, input_variables=[\"PRODUCT_DESCRIPTION\"])\n"
   ]
  },
  {
   "cell_type": "code",
   "execution_count": 13,
   "metadata": {},
   "outputs": [],
   "source": [
    "input_dict = {\n",
    "  \"PRODUCT_DESCRIPTION\": \"Our new AI-powered productivity tool designed to help professionals manage their tasks efficiently and effectively. This tool integrates seamlessly with your existing workflow, providing intelligent reminders, task prioritization, and real-time collaboration features to boost productivity and streamline your daily activities.\"\n",
    "}"
   ]
  },
  {
   "cell_type": "code",
   "execution_count": 14,
   "metadata": {},
   "outputs": [],
   "source": [
    "res = invoke_llm(llm, prompt, input_dict)"
   ]
  },
  {
   "cell_type": "code",
   "execution_count": 15,
   "metadata": {},
   "outputs": [
    {
     "name": "stdout",
     "output_type": "stream",
     "text": [
      "<email>\n",
      "Subject: We Value Your Feedback on Our AI-Powered Productivity Tool\n",
      "\n",
      "Dear [Recipient's Name],\n",
      "\n",
      "Thank you for being a valued user of our AI-powered productivity tool. We truly appreciate your support and trust in our product, which is designed to help professionals manage their tasks efficiently and effectively. Our tool integrates seamlessly with your existing workflow, providing intelligent reminders, task prioritization, and real-time collaboration features to boost productivity and streamline your daily activities.\n",
      "\n",
      "We are continuously striving to enhance our product, and your honest feedback is crucial to our efforts. We would love to hear your thoughts on your experience with the tool and any suggestions you may have for improvement. Your insights will be carefully considered by our product team as we work to make our tool even better for you and other users.\n",
      "\n",
      "To submit your feedback, please reply directly to this email or fill out our short survey by clicking on the link below:\n",
      "[Insert Survey Link]\n",
      "\n",
      "Thank you again for taking the time to provide your valuable feedback. We truly appreciate your input and look forward to hearing from you.\n",
      "\n",
      "Best regards,\n",
      "\n",
      "[Your Name]\n",
      "[Your Position]\n",
      "[Company Name]\n",
      "</email>\n"
     ]
    }
   ],
   "source": [
    "print(res.content)"
   ]
  },
  {
   "cell_type": "markdown",
   "metadata": {},
   "source": [
    "#### 3. Establish Marketing Goals"
   ]
  },
  {
   "cell_type": "code",
   "execution_count": 16,
   "metadata": {},
   "outputs": [],
   "source": [
    "prompt_template = \"\"\"You will be adopting the role of a digital marketing manager to formulate \n",
    "marketing goals for the following business:\n",
    "<business>\n",
    "{BUSINESS}\n",
    "</business>\n",
    "To better understand the business and develop effective goals, please ask 2-5 \n",
    "critical questions about the business, its products, and brand. Focus on \n",
    "gathering key information that will help shape the marketing strategy.\n",
    "After asking your questions, wait for a response providing details about the \n",
    "business. This response will be contained in {BUSINESS_DETAILS}.\n",
    "Once you receive {BUSINESS_DETAILS}, carefully analyze the information \n",
    "provided. Consider the business's unique value proposition, target audience, \n",
    "competitive landscape, and any other relevant factors mentioned.\n",
    "<business_details>\n",
    "{BUSINESS_DETAILS}\n",
    "</business_details>\n",
    "Based on your analysis of the business details, outline the top five strategies.\"\"\""
   ]
  },
  {
   "cell_type": "code",
   "execution_count": 17,
   "metadata": {},
   "outputs": [],
   "source": [
    "input_dict = {\n",
    "\n",
    "'BUSINESS' : {\n",
    "    \"name\": \"Sample Tech Solutions\",\n",
    "    \"industry\": \"Technology\",\n",
    "    \"products\": [\"AI Software\", \"Cloud Services\"],\n",
    "    \"target_audience\": \"Enterprises, Tech Startups\",\n",
    "    \"unique_value_proposition\": \"Cutting-edge technology with scalable solutions\"\n",
    "  }\n",
    ",\n",
    "'BUSINESS_DETAILS' : {\n",
    "    \"name\": \"Sample Tech Solutions\",\n",
    "    \"industry\": \"Technology\",\n",
    "    \"products\": [\"AI Software\", \"Cloud Services\"],\n",
    "    \"target_audience\": \"Enterprises, Tech Startups\",\n",
    "    \"unique_value_proposition\": \"Cutting-edge technology with scalable solutions\",\n",
    "    \"competitive_landscape\": \"Highly competitive with numerous established players\",\n",
    "    \"marketing_challenges\": \"High customer acquisition cost and brand differentiation\"\n",
    "  }\n",
    "}\n"
   ]
  },
  {
   "cell_type": "code",
   "execution_count": 18,
   "metadata": {},
   "outputs": [],
   "source": [
    "prompt = PromptTemplate(template=prompt_template, input_variables=[\"BUSINESS\", \"BUSINESS_DETAILS\"])"
   ]
  },
  {
   "cell_type": "code",
   "execution_count": 19,
   "metadata": {},
   "outputs": [],
   "source": [
    "res = invoke_llm(llm, prompt, input_dict)"
   ]
  },
  {
   "cell_type": "code",
   "execution_count": 20,
   "metadata": {},
   "outputs": [
    {
     "name": "stdout",
     "output_type": "stream",
     "text": [
      "Certainly! To better formulate effective marketing goals for Sample Tech Solutions, I need to gather more detailed information. Here are some critical questions:\n",
      "\n",
      "1. **Product Differentiation**: How does your AI Software and Cloud Services specifically stand out from the competition? Are there any unique features or benefits that are exclusive to your products?\n",
      "\n",
      "2. **Customer Insights**: What are the primary pain points or needs of your target audience (Enterprises and Tech Startups)? Do you have any insights or data on what motivates these customers to choose one tech solution over another?\n",
      "\n",
      "3. **Marketing Channels**: Which marketing channels have you previously used to reach your target audience, and which ones have been most effective? Are there any new channels you are considering?\n",
      "\n",
      "4. **Sales Process**: What does your current sales funnel look like, from lead generation to conversion? Are there any specific stages where you notice a drop-off in potential customers?\n",
      "\n",
      "5. **Brand Perception**: How do your current customers perceive your brand? Have you conducted any surveys or gathered feedback that highlights how customers view your business in comparison to competitors?\n",
      "\n",
      "Once you provide the detailed information, I will analyze it and outline the top five marketing strategies.\n",
      "\n",
      "---\n",
      "\n",
      "Thank you for the detailed information. Based on the provided details, here are the top five marketing strategies for Sample Tech Solutions:\n",
      "\n",
      "1. **Content Marketing and Thought Leadership**:\n",
      "   - **Objective**: Establish Sample Tech Solutions as a thought leader in AI Software and Cloud Services.\n",
      "   - **Tactics**: Develop high-quality, informative content such as white papers, case studies, blog posts, and webinars. Focus on addressing the pain points and needs of Enterprises and Tech Startups. Share insights on industry trends, best practices, and success stories involving your products.\n",
      "\n",
      "2. **Targeted Digital Advertising**:\n",
      "   - **Objective**: Lower customer acquisition costs by reaching the right audience more efficiently.\n",
      "   - **Tactics**: Utilize data-driven digital advertising campaigns on platforms such as LinkedIn, Google Ads, and industry-specific websites. Implement retargeting strategies to nurture leads who have shown interest in your products. Use A/B testing to optimize ad creatives and messaging.\n",
      "\n",
      "3. **SEO and SEM**:\n",
      "   - **Objective**: Increase organic search visibility and drive qualified traffic to your website.\n",
      "   - **Tactics**: Optimize your website for relevant keywords related to AI Software and Cloud Services. Develop an SEO strategy that includes on-page and off-page optimization. Invest in search engine marketing (SEM) to bid on high-intent keywords and capture potential customers actively searching for solutions.\n",
      "\n",
      "4. **Partnerships and Alliances**:\n",
      "   - **Objective**: Enhance brand differentiation and credibility through strategic partnerships.\n",
      "   - **Tactics**: Form alliances with established players in complementary industries, such as cybersecurity, data analytics, or IoT. Co-market your solutions and offer bundled services. Participate in joint webinars, conferences, and events to reach a broader audience.\n",
      "\n",
      "5. **Customer Testimonials and Case Studies**:\n",
      "   - **Objective**: Build trust and demonstrate the value of your solutions through real-world success stories.\n",
      "   - **Tactics**: Collect and showcase customer testimonials and case studies on your website and marketing materials. Highlight measurable results and benefits achieved by Enterprises and Tech Startups using your AI Software and Cloud Services. Promote these success stories through social media, email marketing, and sales presentations.\n",
      "\n",
      "By implementing these strategies, Sample Tech Solutions can effectively differentiate its brand, reduce customer acquisition costs, and build a strong presence in the highly competitive technology market.\n"
     ]
    }
   ],
   "source": [
    "print(res.content)"
   ]
  },
  {
   "cell_type": "markdown",
   "metadata": {},
   "source": [
    "#### 4. Marketing Strategies on a Budget"
   ]
  },
  {
   "cell_type": "code",
   "execution_count": 21,
   "metadata": {},
   "outputs": [],
   "source": [
    "prompt_template = \"\"\"You will be acting as a digital marketing and entrepreneurship expert to guide \n",
    "an ecommerce business owner with limited resources on creating cost-effective marketing strategies. Your goal is to provide advice on maximizing \n",
    "efficiency and managing resources to achieve impactful results.\n",
    "Here are some important points to consider:\n",
    "- Tailor your advice to the specific vertical and business details provided.\n",
    "- Focus on strategies that are cost-effective and suitable for businesses with \n",
    "limited resources.\n",
    "- Provide a step-by-step guide to help the business owner implement the \n",
    "strategies.\n",
    "- Emphasize the importance of maximizing efficiency and managing resources \n",
    "effectively.\n",
    "- Encourage the business owner to take action and implement the strategies.\n",
    "\n",
    "All further input from \n",
    "{Business_Owner} will be the details about the ecommerce business, \n",
    "including the vertical, current marketing efforts, budget, and goals.\"\"\""
   ]
  },
  {
   "cell_type": "code",
   "execution_count": 22,
   "metadata": {},
   "outputs": [],
   "source": [
    "input_dict = {'Business_Owner': {\n",
    "    \"vertical\": \"ecommerce\",\n",
    "    \"current_marketing_efforts\": \"Social media ads, email marketing\",\n",
    "    \"budget\": \"Limited, focusing on low-cost strategies\",\n",
    "    \"goals\": \"Increase brand awareness and drive more traffic to the website\"\n",
    "}\n",
    "}"
   ]
  },
  {
   "cell_type": "code",
   "execution_count": 23,
   "metadata": {},
   "outputs": [],
   "source": [
    "prompt = PromptTemplate(template=prompt_template, input_variables=[\"Business_Owner\"])"
   ]
  },
  {
   "cell_type": "code",
   "execution_count": 24,
   "metadata": {},
   "outputs": [],
   "source": [
    "res = invoke_llm(llm, prompt, input_dict)"
   ]
  },
  {
   "cell_type": "code",
   "execution_count": 25,
   "metadata": {},
   "outputs": [
    {
     "name": "stdout",
     "output_type": "stream",
     "text": [
      "### Step-by-Step Guide to Cost-Effective Marketing Strategies for an Ecommerce Business\n",
      "\n",
      "#### **Step 1: Leverage Organic Social Media Marketing**\n",
      "\n",
      "**1.1 Identify and Focus on Key Platforms:**\n",
      "- Determine which social media platforms your target audience frequents the most (e.g., Instagram, Facebook, TikTok).\n",
      "- Create and optimize business profiles on these platforms.\n",
      "\n",
      "**1.2 Content Creation:**\n",
      "- Develop a content calendar to plan and schedule posts.\n",
      "- Mix different types of content: product highlights, user-generated content, behind-the-scenes, tutorials, and customer testimonials.\n",
      "- Use free tools like Canva for creating visually appealing graphics.\n",
      "\n",
      "**1.3 Engagement:**\n",
      "- Spend time engaging with your audience: reply to comments, like and comment on other users' posts, and participate in relevant groups/forums.\n",
      "- Use polls, questions, and interactive stories to increase engagement on platforms like Instagram and Facebook.\n",
      "\n",
      "#### **Step 2: Optimize Email Marketing**\n",
      "\n",
      "**2.1 Build Your Email List:**\n",
      "- Use lead magnets like discounts, free shipping, or exclusive content to encourage sign-ups.\n",
      "- Ensure there is an easy-to-find sign-up form on your website and social media profiles.\n",
      "\n",
      "**2.2 Segment Your Audience:**\n",
      "- Segment your email list based on customer behavior, preferences, and purchase history.\n",
      "- Tailor your emails to different segments for more personalized and effective communication.\n",
      "\n",
      "**2.3 Automate Where Possible:**\n",
      "- Set up automated email campaigns for welcome series, abandoned cart reminders, and post-purchase follow-ups.\n",
      "- Use tools like Mailchimp or Sendinblue, which offer free plans for small lists.\n",
      "\n",
      "#### **Step 3: Utilize Content Marketing**\n",
      "\n",
      "**3.1 Start a Blog:**\n",
      "- Create a blog on your ecommerce website to drive organic traffic.\n",
      "- Write SEO-friendly articles that provide value to your customers (e.g., how-to guides, product comparisons, industry news).\n",
      "\n",
      "**3.2 Guest Blogging:**\n",
      "- Reach out to blogs within your niche and offer to write guest posts.\n",
      "- Include backlinks to your website to drive traffic and improve SEO.\n",
      "\n",
      "**3.3 Use Video Content:**\n",
      "- Create short, engaging videos showcasing your products, customer testimonials, or behind-the-scenes footage.\n",
      "- Post these videos on your website, social media, and YouTube.\n",
      "\n",
      "#### **Step 4: Collaborate with Influencers**\n",
      "\n",
      "**4.1 Micro-Influencers:**\n",
      "- Identify micro-influencers within your niche who have a loyal following.\n",
      "- Offer free products or a small fee in exchange for reviews, shoutouts, or social media takeovers.\n",
      "\n",
      "**4.2 Affiliate Marketing:**\n",
      "- Create an affiliate program where influencers earn a commission for every sale they drive.\n",
      "- Use platforms like ShareASale or Refersion to manage your affiliate marketing.\n",
      "\n",
      "#### **Step 5: Optimize Your Website for Conversions**\n",
      "\n",
      "**5.1 Improve Website Usability:**\n",
      "- Ensure your website is mobile-friendly and loads quickly.\n",
      "- Simplify the navigation and checkout process to reduce cart abandonment.\n",
      "\n",
      "**5.2 Use Clear Calls-to-Action (CTAs):**\n",
      "- Place prominent CTAs on your homepage, product pages, and blog posts.\n",
      "- Use persuasive language to encourage visitors to take action (e.g., \"Buy Now,\" \"Get Started,\" \"Subscribe\").\n",
      "\n",
      "**5.3 Implement A/B Testing:**\n",
      "- Test different versions of landing pages, headlines, CTAs, and email templates.\n",
      "- Use tools like Google Optimize to conduct A/B tests and determine what works best.\n",
      "\n",
      "#### **Step 6: Analyze and Refine Your Strategies**\n",
      "\n",
      "**6.1 Track Key Metrics:**\n",
      "- Use Google Analytics and social media analytics to monitor traffic, engagement, and conversion rates.\n",
      "- Keep an eye on email open rates, click-through rates, and conversion rates.\n",
      "\n",
      "**6.2 Regularly Review and Adjust:**\n",
      "- Regularly review your marketing efforts and adjust based on performance data.\n",
      "- Focus more on strategies that yield the best results and refine those that underperform.\n",
      "\n",
      "### Encouragement to Take Action\n",
      "\n",
      "- **Start Small:** Begin with one or two strategies and gradually expand as you see results.\n",
      "- **Be Persistent:** Marketing takes time. Consistency and persistence are key to seeing long-term success.\n",
      "- **Keep Learning:** Stay updated with the latest marketing trends and continuously seek ways to improve your strategies.\n",
      "\n",
      "By following these steps and focusing on cost-effective strategies, you can maximize your limited resources and achieve impactful results in increasing brand awareness and driving more traffic to your ecommerce website.\n"
     ]
    }
   ],
   "source": [
    "print(res.content)"
   ]
  },
  {
   "cell_type": "markdown",
   "metadata": {},
   "source": [
    "#### 5. Mathematical"
   ]
  },
  {
   "cell_type": "code",
   "execution_count": 26,
   "metadata": {},
   "outputs": [],
   "source": [
    "## speed distance calculation"
   ]
  },
  {
   "cell_type": "code",
   "execution_count": 27,
   "metadata": {},
   "outputs": [],
   "source": [
    "prompt_template =\"Solve the following scenario-based math problem: \\n\\n<question>{QUESTION}</question>\\n\\nProvide a step-by-step solution.\"\n"
   ]
  },
  {
   "cell_type": "code",
   "execution_count": 28,
   "metadata": {},
   "outputs": [],
   "source": [
    "input_dict = {'QUESTION' : \"Alice and Bob decided to meet at a cafe. Alice started walking from her home at a speed of 5 km/h at 9:00 AM. Bob started cycling from his home at a speed of 15 km/h at 9:30 AM. If the distance between Alice's home and the cafe is 10 km, and the distance between Bob's home and the cafe is 20 km, at what time will Alice and Bob meet at the cafe?\"}\n",
    "\n"
   ]
  },
  {
   "cell_type": "code",
   "execution_count": 29,
   "metadata": {},
   "outputs": [],
   "source": [
    "prompt = PromptTemplate(template=prompt_template, input_variables=[\"QUESTION\"])"
   ]
  },
  {
   "cell_type": "code",
   "execution_count": 30,
   "metadata": {},
   "outputs": [],
   "source": [
    "res = invoke_llm(llm, prompt, input_dict)"
   ]
  },
  {
   "cell_type": "code",
   "execution_count": 31,
   "metadata": {},
   "outputs": [
    {
     "name": "stdout",
     "output_type": "stream",
     "text": [
      "To determine at what time Alice and Bob will meet at the cafe, we need to find out how long it takes each of them to reach the cafe and then compare their arrival times.\n",
      "\n",
      "### Step 1: Calculate Alice's arrival time\n",
      "- **Speed of Alice:** 5 km/h\n",
      "- **Distance to the cafe:** 10 km\n",
      "\n",
      "Using the formula for time:\n",
      "\\[ \\text{Time} = \\frac{\\text{Distance}}{\\text{Speed}} \\]\n",
      "\n",
      "For Alice:\n",
      "\\[ \\text{Time}_{\\text{Alice}} = \\frac{10 \\text{ km}}{5 \\text{ km/h}} = 2 \\text{ hours} \\]\n",
      "\n",
      "Alice starts walking at 9:00 AM. Therefore, her arrival time is:\n",
      "\\[ 9:00 \\text{ AM} + 2 \\text{ hours} = 11:00 \\text{ AM} \\]\n",
      "\n",
      "### Step 2: Calculate Bob's arrival time\n",
      "- **Speed of Bob:** 15 km/h\n",
      "- **Distance to the cafe:** 20 km\n",
      "\n",
      "Using the same formula for time:\n",
      "\\[ \\text{Time}_{\\text{Bob}} = \\frac{20 \\text{ km}}{15 \\text{ km/h}} = \\frac{20}{15} \\text{ hours} = \\frac{4}{3} \\text{ hours} \\approx 1.33 \\text{ hours} \\]\n",
      "\n",
      "Bob starts cycling at 9:30 AM. Therefore, his arrival time is:\n",
      "\\[ 9:30 \\text{ AM} + 1.33 \\text{ hours} \\]\n",
      "\n",
      "Convert 1.33 hours to minutes:\n",
      "\\[ 1.33 \\text{ hours} = 1 \\text{ hour} + 0.33 \\text{ hour} = 1 \\text{ hour} + 20 \\text{ minutes} \\]\n",
      "\n",
      "So Bob's arrival time is:\n",
      "\\[ 9:30 \\text{ AM} + 1 \\text{ hour} + 20 \\text{ minutes} = 10:50 \\text{ AM} \\]\n",
      "\n",
      "### Step 3: Compare arrival times\n",
      "- Alice's arrival time: 11:00 AM\n",
      "- Bob's arrival time: 10:50 AM\n",
      "\n",
      "Bob will arrive at the cafe at 10:50 AM, and Alice will arrive at 11:00 AM. Therefore, Bob will reach the cafe first, and Alice will arrive 10 minutes later.\n",
      "\n",
      "### Conclusion\n",
      "Alice and Bob will meet at the cafe at 11:00 AM, which is when Alice arrives.\n"
     ]
    }
   ],
   "source": [
    "print(res.content)"
   ]
  },
  {
   "cell_type": "code",
   "execution_count": 32,
   "metadata": {},
   "outputs": [],
   "source": [
    "# correct Answer: Alice and Bob will meet at the cafe at 11:00 AM."
   ]
  },
  {
   "cell_type": "code",
   "execution_count": 33,
   "metadata": {},
   "outputs": [],
   "source": [
    "## profit loss"
   ]
  },
  {
   "cell_type": "code",
   "execution_count": 34,
   "metadata": {},
   "outputs": [],
   "source": [
    "input_dict = {'QUESTION' : \"A trader mixes 26 kg of rice at Rs. 20 per kg with 30 kg of rice of other variety at Rs. 36 per kg and sells the mixture at Rs. 30 per kg. His profit percent is:\"}\n",
    "\n"
   ]
  },
  {
   "cell_type": "code",
   "execution_count": 35,
   "metadata": {},
   "outputs": [],
   "source": [
    "prompt = PromptTemplate(template=prompt_template, input_variables=[\"QUESTION\"])"
   ]
  },
  {
   "cell_type": "code",
   "execution_count": 36,
   "metadata": {},
   "outputs": [],
   "source": [
    "res = invoke_llm(llm, prompt, input_dict)"
   ]
  },
  {
   "cell_type": "code",
   "execution_count": 37,
   "metadata": {},
   "outputs": [
    {
     "name": "stdout",
     "output_type": "stream",
     "text": [
      "To solve this problem, we will follow these steps:\n",
      "\n",
      "1. **Calculate the total cost of the rice mixture.**\n",
      "2. **Calculate the total amount of rice.**\n",
      "3. **Calculate the total selling price of the rice mixture.**\n",
      "4. **Determine the profit.**\n",
      "5. **Calculate the profit percentage.**\n",
      "\n",
      "Let's go through each step in detail.\n",
      "\n",
      "### Step 1: Calculate the total cost of the rice mixture.\n",
      "\n",
      "- The cost of 26 kg of rice at Rs. 20 per kg:\n",
      "  \\[\n",
      "  \\text{Cost} = 26 \\times 20 = 520 \\text{ Rs}\n",
      "  \\]\n",
      "\n",
      "- The cost of 30 kg of rice at Rs. 36 per kg:\n",
      "  \\[\n",
      "  \\text{Cost} = 30 \\times 36 = 1080 \\text{ Rs}\n",
      "  \\]\n",
      "\n",
      "- Total cost of the mixture:\n",
      "  \\[\n",
      "  \\text{Total Cost} = 520 + 1080 = 1600 \\text{ Rs}\n",
      "  \\]\n",
      "\n",
      "### Step 2: Calculate the total amount of rice.\n",
      "\n",
      "- Total amount of rice:\n",
      "  \\[\n",
      "  \\text{Total Weight} = 26 \\, \\text{kg} + 30 \\, \\text{kg} = 56 \\, \\text{kg}\n",
      "  \\]\n",
      "\n",
      "### Step 3: Calculate the total selling price of the rice mixture.\n",
      "\n",
      "- Selling price per kg is Rs. 30.\n",
      "- Therefore, the total selling price:\n",
      "  \\[\n",
      "  \\text{Total Selling Price} = 56 \\times 30 = 1680 \\text{ Rs}\n",
      "  \\]\n",
      "\n",
      "### Step 4: Determine the profit.\n",
      "\n",
      "- Profit is calculated as the difference between the total selling price and the total cost price:\n",
      "  \\[\n",
      "  \\text{Profit} = \\text{Total Selling Price} - \\text{Total Cost} = 1680 - 1600 = 80 \\text{ Rs}\n",
      "  \\]\n",
      "\n",
      "### Step 5: Calculate the profit percentage.\n",
      "\n",
      "- Profit percentage is given by:\n",
      "  \\[\n",
      "  \\text{Profit Percent} = \\left( \\frac{\\text{Profit}}{\\text{Total Cost}} \\right) \\times 100\n",
      "  \\]\n",
      "\n",
      "- Substituting the values:\n",
      "  \\[\n",
      "  \\text{Profit Percent} = \\left( \\frac{80}{1600} \\right) \\times 100 = 5\\%\n",
      "  \\]\n",
      "\n",
      "So, the trader's profit percent is \\( \\boxed{5\\%} \\).\n"
     ]
    }
   ],
   "source": [
    "print(res.content)"
   ]
  },
  {
   "cell_type": "code",
   "execution_count": 38,
   "metadata": {},
   "outputs": [],
   "source": [
    "# correct Answer: Gain of 5%"
   ]
  }
 ],
 "metadata": {
  "kernelspec": {
   "display_name": "llm_env",
   "language": "python",
   "name": "python3"
  },
  "language_info": {
   "codemirror_mode": {
    "name": "ipython",
    "version": 3
   },
   "file_extension": ".py",
   "mimetype": "text/x-python",
   "name": "python",
   "nbconvert_exporter": "python",
   "pygments_lexer": "ipython3",
   "version": "3.10.10"
  }
 },
 "nbformat": 4,
 "nbformat_minor": 2
}
