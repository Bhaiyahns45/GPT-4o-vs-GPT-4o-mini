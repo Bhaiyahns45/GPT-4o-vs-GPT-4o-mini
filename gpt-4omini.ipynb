{
 "cells": [
  {
   "cell_type": "code",
   "execution_count": 1,
   "metadata": {},
   "outputs": [],
   "source": [
    "from langchain_core.prompts import PromptTemplate\n",
    "from langchain_openai import ChatOpenAI\n",
    "\n",
    "import os"
   ]
  },
  {
   "cell_type": "code",
   "execution_count": 2,
   "metadata": {},
   "outputs": [],
   "source": [
    "os.environ[\"OPENAI_API_KEY\"] = \"\"\n",
    "os.environ[\"LANGSMITH_API_KEY\"] = \"\"\n",
    "os.environ[\"LANGCHAIN_TRACING_V2\"] = \"true\"\n",
    "os.environ[\"LANGCHAIN_PROJECT\"] = \"gpt-4o-mini\""
   ]
  },
  {
   "cell_type": "code",
   "execution_count": 3,
   "metadata": {},
   "outputs": [],
   "source": [
    "llm = ChatOpenAI(model=\"gpt-4o-mini\")"
   ]
  },
  {
   "cell_type": "code",
   "execution_count": 4,
   "metadata": {},
   "outputs": [],
   "source": [
    "def invoke_llm(llm, prompt, input_dict):\n",
    "\n",
    "    llm_chain = prompt | llm \n",
    "\n",
    "    result = llm_chain.invoke(input_dict)\n",
    "\n",
    "    return result"
   ]
  },
  {
   "cell_type": "markdown",
   "metadata": {},
   "source": [
    "#### 1. Blog summerization"
   ]
  },
  {
   "cell_type": "code",
   "execution_count": 5,
   "metadata": {},
   "outputs": [],
   "source": [
    "document = \"\"\" Customizing Large Language Models (LLMs) with Your Data: Exploring the Best Methods\n",
    "\n",
    "Customizing Large Language Models (LLMs)\n",
    "Customizing Large Language Models (LLMs)\n",
    "As organizations increasingly look to leverage the power of Large Language Models (LLMs) for their unique needs, the question of how to best customize these models with specific data arises. There are four main architectural patterns to consider: Prompt Engineering, Retrieval Augmented Generation (RAG), Fine-Tuning, and Pretraining. Each method has its own advantages, primary use cases, and considerations, which we will explore in detail to help you determine the best approach for your organization.\n",
    "\n",
    "1. Prompt Engineering\n",
    "\n",
    "Definition: Prompt engineering involves crafting specialized prompts to guide the behavior of an LLM. This technique allows you to instruct the model to generate responses in a particular way without altering the model’s internal parameters.\n",
    "\n",
    "Primary Use Case: This method is best suited for scenarios where quick, on-the-fly guidance is needed. It’s ideal for applications that require immediate results without the need for extensive preparation.\n",
    "\n",
    "Data Requirements: No additional data is required beyond the initial prompts.\n",
    "\n",
    "Advantages:\n",
    "\n",
    "Fast and Cost-Effective: No training is required, making it a swift and economical option.\n",
    "Ease of Implementation: Can be implemented quickly without deep technical expertise.\n",
    "Considerations:\n",
    "\n",
    "Limited Control: Provides less control over the model’s behaviour compared to fine-tuning. The results are dependent on the quality and structure of the prompts.\n",
    "Real-World Example: Improving Customer Support for an E-commerce Company\n",
    "\n",
    "Use Case: An e-commerce company wants to automate part of their customer support process using an AI model like GPT-4. The goal is to handle common customer inquiries efficiently, such as order status, return policies, and product information.\n",
    "\n",
    "Scenario:\n",
    "\n",
    "Identify Common Customer Queries:\n",
    "Order status inquiries\n",
    "Return and refund policies\n",
    "Product information and availability\n",
    "Shipping information\n",
    "Steps for Prompt Engineering:\n",
    "\n",
    "Order Status Inquiry:\n",
    "Prompt: “Can you tell me the status of my order #123456?”\n",
    "Response: The AI model should respond with the order status, including whether it has been shipped, is in transit, or has been delivered, along with the expected delivery date if applicable.\n",
    "Return Policy Inquiry:\n",
    "Prompt: “What is your return policy?”\n",
    "Response: The AI model should provide detailed information about the return policy, including the time frame for returns, any conditions for return, and how the customer can initiate a return process.\n",
    "By crafting specific prompts for these common inquiries, the e-commerce company can quickly implement a customer support solution that provides immediate, accurate responses, improving customer satisfaction and reducing the workload on human support agents.\n",
    "\n",
    "2. Retrieval Augmented Generation (RAG)\n",
    "\n",
    "Definition: RAG combines an LLM with an external knowledge retrieval system. This method allows the model to pull in relevant information from external databases during the generation process.\n",
    "\n",
    "Primary Use Case: Ideal for applications that need to integrate dynamic datasets and external knowledge, such as customer support systems or real-time information retrieval tasks.\n",
    "\n",
    "Data Requirements: Requires an external knowledge base or database, such as a vector database.\n",
    "\n",
    "Advantages:\n",
    "\n",
    "Enhanced Accuracy: Provides dynamically updated context, leading to more accurate and contextually relevant responses.\n",
    "Flexibility: Can adapt to new information quickly without retraining the LLM.\n",
    "Considerations:\n",
    "\n",
    "Increased Computation: Can increase prompt length and inference computation, potentially leading to higher latency and computational costs.\n",
    "Real-World Example: An online retail company employs RAG to enhance their chatbot capabilities. The LLM retrieves real-time inventory information and detailed product descriptions from the company’s database, allowing the chatbot to answer customer queries about product availability and specifications accurately.\n",
    "\n",
    "3. Fine-Tuning\n",
    "\n",
    "Definition: Fine-tuning involves adapting a pretrained LLM to specific datasets or domains by training the model further on a curated dataset.\n",
    "\n",
    "Primary Use Case: Suitable for achieving domain or task specialization, such as legal document analysis or medical text interpretation.\n",
    "\n",
    "Data Requirements: Requires thousands of domain-specific or instruction examples.\n",
    "\n",
    "Advantages:\n",
    "\n",
    "Granular Control: Allows for high specialization and fine-grained control over the model’s behaviour in specific contexts.\n",
    "High Specialization: Tailors the model to perform exceptionally well in a particular domain.\n",
    "Considerations:\n",
    "\n",
    "Resource Intensive: Requires labelled data and computational resources for training.\n",
    "Time-Consuming: The process can be time-consuming, involving significant effort to prepare and train the data.\n",
    "Real-World Example: A legal firm fine-tunes an LLM with thousands of legal documents to create a specialized model capable of understanding and generating legal text. This allows the firm to automate the drafting of contracts and legal briefs, significantly reducing the time lawyers spend on these tasks.\n",
    "\n",
    "4. Pretraining\n",
    "\n",
    "Definition: Pretraining involves training an LLM from scratch using a vast corpus of text data.\n",
    "\n",
    "Primary Use Case: Best for unique tasks or domain-specific corpora where existing pretrained models do not suffice.\n",
    "\n",
    "Data Requirements: Requires large datasets, often billions to trillions of tokens.\n",
    "\n",
    "Advantages:\n",
    "\n",
    "Maximum Control: Provides the highest level of control, tailoring the model specifically to unique needs.\n",
    "Tailored Solutions: Can be designed to meet highly specialized requirements not addressed by existing models.\n",
    "Considerations:\n",
    "\n",
    "Extremely Resource-Intensive: Demands extensive computational resources and time, making it the most expensive option.\n",
    "Complexity: Requires significant expertise in machine learning and access to large-scale data infrastructure.\n",
    "Real-World Example: A scientific research institution pretrains an LLM using a massive dataset of scientific literature and research papers. This custom model is then used to assist researchers in generating hypotheses, analyzing complex datasets, and summarizing new research findings, significantly accelerating the pace of scientific discovery.\n",
    "\n",
    "Conclusion\n",
    "\n",
    "Choosing the right method to customize an LLM with your organization’s data depends on your specific needs, available resources, and desired level of control. Prompt Engineering and RAG offer quick and flexible solutions with minimal setup, while Fine-Tuning and Pretraining provide deeper customization at a higher cost. By understanding the strengths and limitations of each method, you can make an informed decision that best suits your organizational goals.\n",
    "\n",
    "By exploring these techniques, you can harness the full potential of LLMs, ensuring they align closely with your specific use cases and deliver optimal performance for your applications \"\"\""
   ]
  },
  {
   "cell_type": "code",
   "execution_count": 6,
   "metadata": {},
   "outputs": [],
   "source": [
    "prompt_template = \"\"\"Here is a blog document that needs to be summarized into a concise set of bullet \n",
    "points:\n",
    "\n",
    "<document>\n",
    "\n",
    "{document}\n",
    "\n",
    "</document>\n",
    "\n",
    "Please read the document carefully and identify the key points, main ideas, \n",
    "and most essential information. Organize and consolidate this important \n",
    "information into a clear and concise bullet point summary. Your summary \n",
    "should contain no more than 10 bullet points.\n",
    "When creating your bullet point summary, ensure that each bullet point is \n",
    "informative and captures a key aspect of the document. The bullet points \n",
    "should be worded clearly and concisely. Avoid redundancy between bullet \n",
    "points - each one should cover a unique and important piece of information \n",
    "from the document.\n",
    "After you have finished summarizing the document into bullet points, present \n",
    "your final summary inside <summary> tags.\"\"\""
   ]
  },
  {
   "cell_type": "code",
   "execution_count": 7,
   "metadata": {},
   "outputs": [],
   "source": [
    "prompt = PromptTemplate(template=prompt_template, input_variables=[\"document\"])"
   ]
  },
  {
   "cell_type": "code",
   "execution_count": 8,
   "metadata": {},
   "outputs": [],
   "source": [
    "input_dict = {\"document\":document}"
   ]
  },
  {
   "cell_type": "code",
   "execution_count": 9,
   "metadata": {},
   "outputs": [],
   "source": [
    "res = invoke_llm(llm, prompt, input_dict)"
   ]
  },
  {
   "cell_type": "code",
   "execution_count": 10,
   "metadata": {},
   "outputs": [
    {
     "name": "stdout",
     "output_type": "stream",
     "text": [
      "<summary>\n",
      "- Organizations seek to customize Large Language Models (LLMs) to meet specific needs, using methods like Prompt Engineering, RAG, Fine-Tuning, and Pretraining.\n",
      "- **Prompt Engineering**: Involves creating specialized prompts for immediate results; no additional data is needed, making it fast and cost-effective, though it offers limited control over model behavior.\n",
      "- **Retrieval Augmented Generation (RAG)**: Integrates external knowledge retrieval with LLMs, enhancing accuracy and flexibility; requires an external database but incurs higher computational costs.\n",
      "- **Fine-Tuning**: Adapts pretrained LLMs to specific datasets, allowing for high specialization and granular control; requires substantial labeled data, making it resource-intensive and time-consuming.\n",
      "- **Pretraining**: Involves training an LLM from scratch on large datasets; offers maximum control and tailored solutions but is the most resource-intensive and complex method requiring significant expertise.\n",
      "- Real-world applications illustrate these methods, such as e-commerce using Prompt Engineering for customer support and legal firms using Fine-Tuning for automating legal document preparation.\n",
      "- RAG can enhance chatbot capabilities by retrieving real-time data from databases, while Pretraining is used in scientific research for generating hypotheses and summarizing findings.\n",
      "- The choice of customization method depends on organizational needs, available resources, and desired control levels.\n",
      "- Understanding each method's strengths and limitations is crucial for aligning LLMs with specific use cases to achieve optimal performance.\n",
      "- Effective customization of LLMs can significantly improve efficiency and accuracy in various applications across sectors.\n",
      "</summary>\n"
     ]
    }
   ],
   "source": [
    "print(res.content)"
   ]
  },
  {
   "cell_type": "markdown",
   "metadata": {},
   "source": [
    "#### 2. Feedback Request Email"
   ]
  },
  {
   "cell_type": "code",
   "execution_count": 11,
   "metadata": {},
   "outputs": [],
   "source": [
    "prompt_template= \"\"\"Here is a description of the product you will be requesting feedback on:\n",
    "<product_description>\n",
    "{PRODUCT_DESCRIPTION}\n",
    "</product_description>\n",
    "Your task is to write an email to customers or users of this product to request \n",
    "their honest feedback and suggestions for improvement.\n",
    "In your email, make sure to:\n",
    "- Thank the recipient for being a valued customer or user of the product\n",
    "- Provide a brief description of the product and its purpose, using the \n",
    "product_description provided\n",
    "- Explain that you are seeking their honest feedback and suggestions on how to \n",
    "make the product better\n",
    "- Assure the recipient that their feedback will be carefully considered by the \n",
    "product team\n",
    "- Provide clear instructions on how they can submit their feedback, such as by \n",
    "replying directly to the email or filling out a linked survey\n",
    "- Thank the recipient again for taking the time to provide their valuable feedback\n",
    "Remember to use a friendly but professional tone that shows appreciation for the \n",
    "recipient's input and conveys a genuine desire to improve the product based on \n",
    "their suggestions.\n",
    "Please output the entire email inside <email> tags.\"\"\""
   ]
  },
  {
   "cell_type": "code",
   "execution_count": 14,
   "metadata": {},
   "outputs": [],
   "source": [
    "\n",
    "prompt = PromptTemplate(template=prompt_template, input_variables=[\"PRODUCT_DESCRIPTION\"])\n"
   ]
  },
  {
   "cell_type": "code",
   "execution_count": 15,
   "metadata": {},
   "outputs": [],
   "source": [
    "input_dict = {\n",
    "  \"PRODUCT_DESCRIPTION\": \"Our new AI-powered productivity tool designed to help professionals manage their tasks efficiently and effectively. This tool integrates seamlessly with your existing workflow, providing intelligent reminders, task prioritization, and real-time collaboration features to boost productivity and streamline your daily activities.\"\n",
    "}"
   ]
  },
  {
   "cell_type": "code",
   "execution_count": 16,
   "metadata": {},
   "outputs": [],
   "source": [
    "res = invoke_llm(llm, prompt, input_dict)"
   ]
  },
  {
   "cell_type": "code",
   "execution_count": 17,
   "metadata": {},
   "outputs": [
    {
     "name": "stdout",
     "output_type": "stream",
     "text": [
      "<email>\n",
      "Subject: We Value Your Feedback!\n",
      "\n",
      "Dear [Recipient's Name],\n",
      "\n",
      "Thank you for being a valued customer and for using our new AI-powered productivity tool. We truly appreciate your support and commitment to enhancing your task management experience.\n",
      "\n",
      "As you know, our tool is designed to help professionals like you manage tasks efficiently and effectively. By integrating seamlessly with your existing workflow, it provides intelligent reminders, task prioritization, and real-time collaboration features to boost productivity and streamline your daily activities.\n",
      "\n",
      "In our continuous effort to improve and enhance your experience, we are seeking your honest feedback and suggestions on how to make our product even better. Your insights are incredibly important to us, and we want to ensure that our tool meets your needs and expectations.\n",
      "\n",
      "Please rest assured that all feedback will be carefully considered by our product team. To share your thoughts, you can simply reply to this email or fill out our short feedback survey [insert link to survey].\n",
      "\n",
      "Thank you once again for taking the time to provide your valuable feedback. It truly helps us in our mission to serve you better!\n",
      "\n",
      "Best regards,\n",
      "\n",
      "[Your Name]  \n",
      "[Your Position]  \n",
      "[Your Company]  \n",
      "[Your Contact Information]  \n",
      "</email>\n"
     ]
    }
   ],
   "source": [
    "print(res.content)"
   ]
  },
  {
   "cell_type": "markdown",
   "metadata": {},
   "source": [
    "#### 3. Establish Marketing Goals"
   ]
  },
  {
   "cell_type": "code",
   "execution_count": 18,
   "metadata": {},
   "outputs": [],
   "source": [
    "prompt_template = \"\"\"You will be adopting the role of a digital marketing manager to formulate \n",
    "marketing goals for the following business:\n",
    "<business>\n",
    "{BUSINESS}\n",
    "</business>\n",
    "To better understand the business and develop effective goals, please ask 2-5 \n",
    "critical questions about the business, its products, and brand. Focus on \n",
    "gathering key information that will help shape the marketing strategy.\n",
    "After asking your questions, wait for a response providing details about the \n",
    "business. This response will be contained in {BUSINESS_DETAILS}.\n",
    "Once you receive {BUSINESS_DETAILS}, carefully analyze the information \n",
    "provided. Consider the business's unique value proposition, target audience, \n",
    "competitive landscape, and any other relevant factors mentioned.\n",
    "<business_details>\n",
    "{BUSINESS_DETAILS}\n",
    "</business_details>\n",
    "Based on your analysis of the business details, outline the top five strategies.\"\"\""
   ]
  },
  {
   "cell_type": "code",
   "execution_count": 19,
   "metadata": {},
   "outputs": [],
   "source": [
    "input_dict = {\n",
    "\n",
    "'BUSINESS' : {\n",
    "    \"name\": \"Sample Tech Solutions\",\n",
    "    \"industry\": \"Technology\",\n",
    "    \"products\": [\"AI Software\", \"Cloud Services\"],\n",
    "    \"target_audience\": \"Enterprises, Tech Startups\",\n",
    "    \"unique_value_proposition\": \"Cutting-edge technology with scalable solutions\"\n",
    "  }\n",
    ",\n",
    "'BUSINESS_DETAILS' : {\n",
    "    \"name\": \"Sample Tech Solutions\",\n",
    "    \"industry\": \"Technology\",\n",
    "    \"products\": [\"AI Software\", \"Cloud Services\"],\n",
    "    \"target_audience\": \"Enterprises, Tech Startups\",\n",
    "    \"unique_value_proposition\": \"Cutting-edge technology with scalable solutions\",\n",
    "    \"competitive_landscape\": \"Highly competitive with numerous established players\",\n",
    "    \"marketing_challenges\": \"High customer acquisition cost and brand differentiation\"\n",
    "  }\n",
    "}\n"
   ]
  },
  {
   "cell_type": "code",
   "execution_count": 20,
   "metadata": {},
   "outputs": [],
   "source": [
    "prompt = PromptTemplate(template=prompt_template, input_variables=[\"BUSINESS\", \"BUSINESS_DETAILS\"])"
   ]
  },
  {
   "cell_type": "code",
   "execution_count": 21,
   "metadata": {},
   "outputs": [],
   "source": [
    "res = invoke_llm(llm, prompt, input_dict)"
   ]
  },
  {
   "cell_type": "code",
   "execution_count": 22,
   "metadata": {},
   "outputs": [
    {
     "name": "stdout",
     "output_type": "stream",
     "text": [
      "To begin formulating effective marketing goals for Sample Tech Solutions, I would like to ask the following critical questions:\n",
      "\n",
      "1. **What are the specific features or benefits of your AI Software and Cloud Services that differentiate them from competitors in the market?** Understanding this will help in crafting messages that resonate with your target audience.\n",
      "\n",
      "2. **What marketing channels have you utilized in the past, and which have proven most effective for reaching your target audience (Enterprises and Tech Startups)?** This insight will help in determining where to focus future marketing efforts.\n",
      "\n",
      "3. **Do you have any existing customer testimonials, case studies, or success stories that highlight the effectiveness of your products?** Leveraging social proof can be a powerful tool in building trust and credibility.\n",
      "\n",
      "4. **What is your current budget for marketing, and are there any specific KPIs you would like to focus on (e.g., lead generation, brand awareness, customer retention)?** This will aid in setting realistic and measurable goals.\n",
      "\n",
      "5. **What is your current positioning in the market compared to your competitors? Are there specific competitors you see as direct threats?** Understanding your competitive position can shape the messaging and tactics used to gain market share.\n",
      "\n",
      "Please provide the responses to these questions, and I will proceed with the analysis and strategy development based on the information.\n"
     ]
    }
   ],
   "source": [
    "print(res.content)"
   ]
  },
  {
   "cell_type": "markdown",
   "metadata": {},
   "source": [
    "#### 4. Marketing Strategies on a Budget"
   ]
  },
  {
   "cell_type": "code",
   "execution_count": 23,
   "metadata": {},
   "outputs": [],
   "source": [
    "prompt_template = \"\"\"You will be acting as a digital marketing and entrepreneurship expert to guide \n",
    "an ecommerce business owner with limited resources on creating cost-effective marketing strategies. Your goal is to provide advice on maximizing \n",
    "efficiency and managing resources to achieve impactful results.\n",
    "Here are some important points to consider:\n",
    "- Tailor your advice to the specific vertical and business details provided.\n",
    "- Focus on strategies that are cost-effective and suitable for businesses with \n",
    "limited resources.\n",
    "- Provide a step-by-step guide to help the business owner implement the \n",
    "strategies.\n",
    "- Emphasize the importance of maximizing efficiency and managing resources \n",
    "effectively.\n",
    "- Encourage the business owner to take action and implement the strategies.\n",
    "\n",
    "All further input from \n",
    "{Business_Owner} will be the details about the ecommerce business, \n",
    "including the vertical, current marketing efforts, budget, and goals.\"\"\""
   ]
  },
  {
   "cell_type": "code",
   "execution_count": 24,
   "metadata": {},
   "outputs": [],
   "source": [
    "input_dict = {'Business_Owner': {\n",
    "    \"vertical\": \"ecommerce\",\n",
    "    \"current_marketing_efforts\": \"Social media ads, email marketing\",\n",
    "    \"budget\": \"Limited, focusing on low-cost strategies\",\n",
    "    \"goals\": \"Increase brand awareness and drive more traffic to the website\"\n",
    "}\n",
    "}"
   ]
  },
  {
   "cell_type": "code",
   "execution_count": 25,
   "metadata": {},
   "outputs": [],
   "source": [
    "prompt = PromptTemplate(template=prompt_template, input_variables=[\"Business_Owner\"])"
   ]
  },
  {
   "cell_type": "code",
   "execution_count": 26,
   "metadata": {},
   "outputs": [],
   "source": [
    "res = invoke_llm(llm, prompt, input_dict)"
   ]
  },
  {
   "cell_type": "code",
   "execution_count": 27,
   "metadata": {},
   "outputs": [
    {
     "name": "stdout",
     "output_type": "stream",
     "text": [
      "Absolutely! As an ecommerce business owner with limited resources, you can still implement effective marketing strategies to increase brand awareness and drive traffic to your website. Let’s break this down into a step-by-step guide focused on cost-effective strategies that maximize efficiency.\n",
      "\n",
      "### Step 1: Define Your Target Audience\n",
      "**Why?** Knowing your target audience helps tailor your marketing efforts and ensures that your resources are spent effectively.\n",
      "\n",
      "**Action Steps:**\n",
      "- Create buyer personas that include demographics, interests, and pain points.\n",
      "- Utilize existing customer data or social media insights to refine your audience.\n",
      "\n",
      "### Step 2: Optimize Your Website for SEO\n",
      "**Why?** Organic traffic can significantly reduce your marketing costs and improve visibility.\n",
      "\n",
      "**Action Steps:**\n",
      "- Conduct keyword research using free tools like Google Keyword Planner or Ubersuggest.\n",
      "- Optimize product pages and blog content with relevant keywords.\n",
      "- Ensure your website is mobile-friendly and has fast loading speeds (use tools like Google PageSpeed Insights).\n",
      "\n",
      "### Step 3: Leverage Social Media Organically\n",
      "**Why?** Social media can be a powerful tool for brand awareness without significant costs.\n",
      "\n",
      "**Action Steps:**\n",
      "- Post consistently on platforms where your audience is active (focus on 1-2 platforms initially).\n",
      "- Utilize engaging content formats like videos, stories, and polls to increase interaction.\n",
      "- Collaborate with micro-influencers or engage in community groups to promote your products.\n",
      "\n",
      "### Step 4: Implement Referral and Loyalty Programs\n",
      "**Why?** Word-of-mouth marketing is highly effective and cost-efficient.\n",
      "\n",
      "**Action Steps:**\n",
      "- Create a simple referral program that rewards customers for bringing in new customers (discounts, freebies, etc.).\n",
      "- Implement a loyalty program that encourages repeat purchases (points for purchases, exclusive offers).\n",
      "\n",
      "### Step 5: Enhance Email Marketing Campaigns\n",
      "**Why?** Email marketing remains one of the most effective channels for driving traffic and conversions.\n",
      "\n",
      "**Action Steps:**\n",
      "- Segment your email list based on customer behavior or interests for personalized campaigns.\n",
      "- Create engaging content with a strong call-to-action (CTA) that drives traffic to your website.\n",
      "- Use free or low-cost email marketing platforms like Mailchimp or Sendinblue.\n",
      "\n",
      "### Step 6: Utilize Content Marketing\n",
      "**Why?** Providing valuable content can establish your brand as an authority and attract organic traffic.\n",
      "\n",
      "**Action Steps:**\n",
      "- Start a blog related to your products (how-to guides, industry trends) to attract visitors.\n",
      "- Create shareable infographics or videos that can be posted on social media to increase engagement.\n",
      "- Use guest blogging to reach new audiences and link back to your website.\n",
      "\n",
      "### Step 7: Monitor and Analyze Performance\n",
      "**Why?** Understanding your performance helps you make data-driven decisions and optimize your strategies.\n",
      "\n",
      "**Action Steps:**\n",
      "- Use free tools like Google Analytics to track website traffic and user behavior.\n",
      "- Monitor social media insights to evaluate the performance of your posts and ads.\n",
      "- Adjust your strategies based on what’s working and what isn’t.\n",
      "\n",
      "### Step 8: Engage with Your Community\n",
      "**Why?** Building a community around your brand can lead to increased loyalty and word-of-mouth referrals.\n",
      "\n",
      "**Action Steps:**\n",
      "- Engage with followers by responding to comments and messages promptly.\n",
      "- Host live Q&A sessions or webinars to offer value and build relationships.\n",
      "- Encourage user-generated content by creating hashtags or contests.\n",
      "\n",
      "### Conclusion\n",
      "These strategies are designed to be cost-effective and manageable with limited resources. Implementing them step-by-step will help you maximize efficiency and achieve impactful results. \n",
      "\n",
      "**Take Action:**\n",
      "Start with defining your target audience and optimizing your website today! Set aside a specific time each week to focus on these strategies, and remember to monitor your progress regularly. Don’t hesitate to iterate and adapt your approach based on your results. \n",
      "\n",
      "By taking these steps, you’ll be well on your way to increasing brand awareness and driving more traffic to your ecommerce website. Good luck!\n"
     ]
    }
   ],
   "source": [
    "print(res.content)"
   ]
  },
  {
   "cell_type": "markdown",
   "metadata": {},
   "source": [
    "#### 5. Mathematical"
   ]
  },
  {
   "cell_type": "code",
   "execution_count": 28,
   "metadata": {},
   "outputs": [],
   "source": [
    "## speed distance calculation"
   ]
  },
  {
   "cell_type": "code",
   "execution_count": 29,
   "metadata": {},
   "outputs": [],
   "source": [
    "prompt_template =\"Solve the following scenario-based math problem: \\n\\n<question>{QUESTION}</question>\\n\\nProvide a step-by-step solution.\"\n"
   ]
  },
  {
   "cell_type": "code",
   "execution_count": 30,
   "metadata": {},
   "outputs": [],
   "source": [
    "input_dict = {'QUESTION' : \"Alice and Bob decided to meet at a cafe. Alice started walking from her home at a speed of 5 km/h at 9:00 AM. Bob started cycling from his home at a speed of 15 km/h at 9:30 AM. If the distance between Alice's home and the cafe is 10 km, and the distance between Bob's home and the cafe is 20 km, at what time will Alice and Bob meet at the cafe?\"}\n",
    "\n"
   ]
  },
  {
   "cell_type": "code",
   "execution_count": 31,
   "metadata": {},
   "outputs": [],
   "source": [
    "prompt = PromptTemplate(template=prompt_template, input_variables=[\"QUESTION\"])"
   ]
  },
  {
   "cell_type": "code",
   "execution_count": 32,
   "metadata": {},
   "outputs": [],
   "source": [
    "res = invoke_llm(llm, prompt, input_dict)"
   ]
  },
  {
   "cell_type": "code",
   "execution_count": 33,
   "metadata": {},
   "outputs": [
    {
     "name": "stdout",
     "output_type": "stream",
     "text": [
      "To determine at what time Alice and Bob will meet at the cafe, we need to analyze their travel times and distances.\n",
      "\n",
      "1. **Distance to the cafe**:  \n",
      "   - Alice's distance to the cafe: 10 km  \n",
      "   - Bob's distance to the cafe: 20 km  \n",
      "\n",
      "2. **Alice's travel details**:  \n",
      "   - Speed: 5 km/h  \n",
      "   - Start time: 9:00 AM  \n",
      "   - Time taken to reach the cafe:  \n",
      "     \\[\n",
      "     \\text{Time} = \\frac{\\text{Distance}}{\\text{Speed}} = \\frac{10 \\text{ km}}{5 \\text{ km/h}} = 2 \\text{ hours}\n",
      "     \\]  \n",
      "   - Therefore, Alice will reach the cafe at:  \n",
      "     \\[\n",
      "     9:00 \\text{ AM} + 2 \\text{ hours} = 11:00 \\text{ AM}\n",
      "     \\]\n",
      "\n",
      "3. **Bob's travel details**:  \n",
      "   - Speed: 15 km/h  \n",
      "   - Start time: 9:30 AM  \n",
      "   - Time taken to reach the cafe:  \n",
      "     \\[\n",
      "     \\text{Time} = \\frac{\\text{Distance}}{\\text{Speed}} = \\frac{20 \\text{ km}}{15 \\text{ km/h}} = \\frac{4}{3} \\text{ hours} \\approx 1.33 \\text{ hours}\n",
      "     \\]  \n",
      "   - Converting \\(\\frac{4}{3}\\) hours to hours and minutes:  \n",
      "     \\[\n",
      "     \\frac{4}{3} \\text{ hours} = 1 \\text{ hour} + \\frac{1}{3} \\text{ hour} = 1 \\text{ hour} + 20 \\text{ minutes}\n",
      "     \\]  \n",
      "   - Therefore, Bob will reach the cafe at:  \n",
      "     \\[\n",
      "     9:30 \\text{ AM} + 1 \\text{ hour} + 20 \\text{ minutes} = 10:50 \\text{ AM}\n",
      "     \\]\n",
      "\n",
      "4. **Comparison of arrival times**:  \n",
      "   - Alice arrives at 11:00 AM.  \n",
      "   - Bob arrives at 10:50 AM.  \n",
      "\n",
      "Since Bob arrives before Alice, they will meet at the cafe when Alice arrives at 11:00 AM.\n",
      "\n",
      "**Final answer**: Alice and Bob will meet at the cafe at **11:00 AM**.\n"
     ]
    }
   ],
   "source": [
    "print(res.content)"
   ]
  },
  {
   "cell_type": "code",
   "execution_count": 34,
   "metadata": {},
   "outputs": [],
   "source": [
    "# correct Answer: Alice and Bob will meet at the cafe at 11:00 AM."
   ]
  },
  {
   "cell_type": "code",
   "execution_count": 35,
   "metadata": {},
   "outputs": [],
   "source": [
    "## profit loss"
   ]
  },
  {
   "cell_type": "code",
   "execution_count": 36,
   "metadata": {},
   "outputs": [],
   "source": [
    "input_dict = {'QUESTION' : \"A trader mixes 26 kg of rice at Rs. 20 per kg with 30 kg of rice of other variety at Rs. 36 per kg and sells the mixture at Rs. 30 per kg. His profit percent is:\"}\n",
    "\n"
   ]
  },
  {
   "cell_type": "code",
   "execution_count": 37,
   "metadata": {},
   "outputs": [],
   "source": [
    "prompt = PromptTemplate(template=prompt_template, input_variables=[\"QUESTION\"])"
   ]
  },
  {
   "cell_type": "code",
   "execution_count": 38,
   "metadata": {},
   "outputs": [],
   "source": [
    "res = invoke_llm(llm, prompt, input_dict)"
   ]
  },
  {
   "cell_type": "code",
   "execution_count": 39,
   "metadata": {},
   "outputs": [
    {
     "name": "stdout",
     "output_type": "stream",
     "text": [
      "To solve the problem, we need to determine the total cost of the mixture and then find the profit percentage based on the selling price.\n",
      "\n",
      "### Step 1: Calculate the cost of the first variety of rice\n",
      "The trader has 26 kg of rice at Rs. 20 per kg.\n",
      "\n",
      "\\[\n",
      "\\text{Cost of first variety} = \\text{Weight} \\times \\text{Price per kg} = 26 \\, \\text{kg} \\times 20 \\, \\text{Rs/kg} = 520 \\, \\text{Rs}\n",
      "\\]\n",
      "\n",
      "### Step 2: Calculate the cost of the second variety of rice\n",
      "The trader has 30 kg of rice at Rs. 36 per kg.\n",
      "\n",
      "\\[\n",
      "\\text{Cost of second variety} = \\text{Weight} \\times \\text{Price per kg} = 30 \\, \\text{kg} \\times 36 \\, \\text{Rs/kg} = 1080 \\, \\text{Rs}\n",
      "\\]\n",
      "\n",
      "### Step 3: Calculate the total cost of the mixture\n",
      "Now we add the costs of both varieties of rice to get the total cost:\n",
      "\n",
      "\\[\n",
      "\\text{Total Cost} = \\text{Cost of first variety} + \\text{Cost of second variety} = 520 \\, \\text{Rs} + 1080 \\, \\text{Rs} = 1600 \\, \\text{Rs}\n",
      "\\]\n",
      "\n",
      "### Step 4: Calculate the total weight of the mixture\n",
      "The total weight of the mixture is:\n",
      "\n",
      "\\[\n",
      "\\text{Total Weight} = 26 \\, \\text{kg} + 30 \\, \\text{kg} = 56 \\, \\text{kg}\n",
      "\\]\n",
      "\n",
      "### Step 5: Calculate the selling price of the mixture\n",
      "The selling price is Rs. 30 per kg. Thus, the total selling price of the mixture is:\n",
      "\n",
      "\\[\n",
      "\\text{Total Selling Price} = \\text{Total Weight} \\times \\text{Selling Price per kg} = 56 \\, \\text{kg} \\times 30 \\, \\text{Rs/kg} = 1680 \\, \\text{Rs}\n",
      "\\]\n",
      "\n",
      "### Step 6: Calculate the profit\n",
      "Profit is calculated as the total selling price minus the total cost:\n",
      "\n",
      "\\[\n",
      "\\text{Profit} = \\text{Total Selling Price} - \\text{Total Cost} = 1680 \\, \\text{Rs} - 1600 \\, \\text{Rs} = 80 \\, \\text{Rs}\n",
      "\\]\n",
      "\n",
      "### Step 7: Calculate the profit percentage\n",
      "The profit percentage is calculated using the formula:\n",
      "\n",
      "\\[\n",
      "\\text{Profit Percentage} = \\left(\\frac{\\text{Profit}}{\\text{Total Cost}}\\right) \\times 100\n",
      "\\]\n",
      "\n",
      "Substituting the values we have:\n",
      "\n",
      "\\[\n",
      "\\text{Profit Percentage} = \\left(\\frac{80 \\, \\text{Rs}}{1600 \\, \\text{Rs}}\\right) \\times 100 = 5\\%\n",
      "\\]\n",
      "\n",
      "Thus, the profit percentage of the trader is **5%**.\n"
     ]
    }
   ],
   "source": [
    "print(res.content)"
   ]
  },
  {
   "cell_type": "code",
   "execution_count": 40,
   "metadata": {},
   "outputs": [],
   "source": [
    "# correct Answer: Gain of 5%"
   ]
  }
 ],
 "metadata": {
  "kernelspec": {
   "display_name": "llm_env",
   "language": "python",
   "name": "python3"
  },
  "language_info": {
   "codemirror_mode": {
    "name": "ipython",
    "version": 3
   },
   "file_extension": ".py",
   "mimetype": "text/x-python",
   "name": "python",
   "nbconvert_exporter": "python",
   "pygments_lexer": "ipython3",
   "version": "3.10.10"
  }
 },
 "nbformat": 4,
 "nbformat_minor": 2
}
